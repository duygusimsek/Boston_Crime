{
 "cells": [
  {
   "cell_type": "code",
   "execution_count": null,
   "id": "6547ee63",
   "metadata": {},
   "outputs": [],
   "source": [
    "# 1) Import dependencies"
   ]
  },
  {
   "cell_type": "code",
   "execution_count": 1,
   "id": "d6724730",
   "metadata": {},
   "outputs": [],
   "source": [
    "# 2) Read in Boston_Crime.csv, which has 17 columns. Includes:\n",
    "    # INCIDENT_NUMBER - reference number used when officially recording a particular crime\n",
    "    # OFFENSE_CODE - given code of an incident\n",
    "    # OFFENSE_CODE_GROUP - code for offense's group\n",
    "    # OFFENSE_DESCRIPTION - description of crime\n",
    "    # DISTRICT - place where crime was committed\n",
    "    # REPORTING_AREA - place where crime was committed\n",
    "    # SHOOTING - type of incident\n",
    "    # OCCURRED_ON_DATE - date of incident including Year, Month, and Time\n",
    "    # YEAR - year incident occurred\n",
    "    # MONTH - month incident occurred\n",
    "    # DAY_OF_WEEK - day of week incident occurred\n",
    "    # HOUR - time incident occurred\n",
    "    # UCR_PART \n",
    "    # STREET - name of street crime was committed\n",
    "    # Lat - latitude of place the crime was committed\n",
    "    # Long - longitude of place the crime was committed\n",
    "    # Location - coordinates (latitude,longitude) of place the crime was committed"
   ]
  },
  {
   "cell_type": "code",
   "execution_count": 2,
   "id": "6a26a513",
   "metadata": {},
   "outputs": [],
   "source": [
    "# 3) Clean the data by removing any possible null values (if not needed) \n",
    "# most likely drop OFFENSE_CODE_GROUP and UCR_PART"
   ]
  },
  {
   "cell_type": "code",
   "execution_count": null,
   "id": "f07614a3",
   "metadata": {},
   "outputs": [],
   "source": [
    "# 4) Clean any data that need to be converted for consistency\n",
    "# Use dtype on DF to see the data types and what needs to be converted (or any other data to be dropped):\n",
    "# Either convert Location from object to integer or drop Location and keep Lat/Long\n",
    "# Convert OCCURRED_ON_DATE from object to integer\n",
    "# Convert DAY_OF_WEEK from object to integer\n",
    "# Convert STREET from object to integer or drop\n",
    "# Convert DISTRICT from object to integer\n",
    "# Convert REPORTING_AREA from object to integer\n",
    "# Possibly drop INCIDENT_NUMBER if determined to not be needed\n",
    "\n",
    "INCIDENT_NUMBER         object\n",
    "OFFENSE_CODE             int64\n",
    "OFFENSE_CODE_GROUP     float64\n",
    "OFFENSE_DESCRIPTION     object\n",
    "DISTRICT                object\n",
    "REPORTING_AREA          object\n",
    "SHOOTING                 int64\n",
    "OCCURRED_ON_DATE        object\n",
    "YEAR                     int64\n",
    "MONTH                    int64\n",
    "DAY_OF_WEEK             object\n",
    "HOUR                     int64\n",
    "UCR_PART               float64\n",
    "STREET                  object\n",
    "Lat                    float64\n",
    "Long                   float64\n",
    "Location                object\n",
    "dtype: object"
   ]
  },
  {
   "cell_type": "code",
   "execution_count": null,
   "id": "702fc41d",
   "metadata": {},
   "outputs": [],
   "source": [
    "#5) After cleaning, print our statistical summary for certain data to help visualize answers to questions:\n",
    "# a) How has crime changed over the years?\n",
    "# b) Is it possible to predict where or when crime will be predicted? \n",
    "# c) Which types of crimes are more prevalent in certain areas? Will these areas need more patrols in the area?\n",
    "# d) Which areas have seen an increase or decrease in crime?\n",
    "# e) Will certain areas need a new station?\n",
    "\n",
    "# Another question we can possibly answer once we have this data:\n",
    "# What other resources could be used to decrease crime rates in certain areas besides patrols?"
   ]
  },
  {
   "cell_type": "code",
   "execution_count": null,
   "id": "0fd19844",
   "metadata": {},
   "outputs": [],
   "source": [
    "# 5) After cleaning, determine best machine learning model:\n",
    "# In this case, we will be using K-means clustering, which will separate groups with similar traits and assign\n",
    "# them into clusters."
   ]
  },
  {
   "cell_type": "code",
   "execution_count": null,
   "id": "bc97c900",
   "metadata": {},
   "outputs": [],
   "source": [
    "# 6) Define our training and testing models using X_train, X_test, y_train, and y_test; use train_test_split\n",
    "    # train = 80%, test = 20%"
   ]
  },
  {
   "cell_type": "code",
   "execution_count": 1,
   "id": "099c89d7",
   "metadata": {},
   "outputs": [],
   "source": [
    "# 7) Fit the model with the training data"
   ]
  },
  {
   "cell_type": "code",
   "execution_count": 3,
   "id": "5e22d7e4",
   "metadata": {},
   "outputs": [],
   "source": [
    "# 8) Visualize the model with scatter plots (matplotlib) and heatmaps (use seaborn import for heatmaps)\n",
    "# Different possible clusters to compare:\n",
    "# Cluster: Lat/Lng with DAY_OF_WEEK\n",
    "# Cluster: Lat/Lng with OFFENSE_CODE\n",
    "# Cluster: DAY_OF_WEEK with OFFENSE_CODE\n",
    "# Cluster: DISTRICT or REPORTING_AREA with OFFENSE_CODE\n",
    "# Cluster: DISTRICT or REPORTING_AREA with DAY_OF_WEEK"
   ]
  },
  {
   "cell_type": "code",
   "execution_count": null,
   "id": "ad90ad17",
   "metadata": {},
   "outputs": [],
   "source": []
  }
 ],
 "metadata": {
  "kernelspec": {
   "display_name": "mlenv",
   "language": "python",
   "name": "mlenv"
  },
  "language_info": {
   "codemirror_mode": {
    "name": "ipython",
    "version": 3
   },
   "file_extension": ".py",
   "mimetype": "text/x-python",
   "name": "python",
   "nbconvert_exporter": "python",
   "pygments_lexer": "ipython3",
   "version": "3.7.13"
  }
 },
 "nbformat": 4,
 "nbformat_minor": 5
}
