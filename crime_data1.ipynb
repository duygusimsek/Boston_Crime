{
 "cells": [
  {
   "cell_type": "code",
   "execution_count": null,
   "id": "fd3bfc1a",
   "metadata": {},
   "outputs": [],
   "source": [
    "%matplotlib inline\n",
    "# Dependencies\n",
    "import matplotlib.pyplot as plt\n",
    "import numpy as np\n",
    "import pandas as pd\n",
    "# Load in csv\n",
    "crime_data_df = pd.read_csv(\"crimedata.csv\")\n",
    "crime_data_df.head(10)"
   ]
  },
  {
   "cell_type": "code",
   "execution_count": null,
   "id": "350bc4e3",
   "metadata": {},
   "outputs": [],
   "source": [
    "crime_data_df.plot(x=\"SHOOTING\", y=\"YEAR\")\n",
    "plt.show()"
   ]
  },
  {
   "cell_type": "code",
   "execution_count": null,
   "id": "6e8d4ffb",
   "metadata": {},
   "outputs": [],
   "source": [
    "# Set x-axis and tick locations.\n",
    "x_axis = np.arange(len(crime_data_df))\n",
    "tick_locations = [value for value in x_axis]\n",
    "# Plot the data.\n",
    "crime_data_df.plot(x=\"MONTH\", y=\"YEAR\")\n",
    "plt.xticks(tick_locations, crime_data_df[\"MONTH\"])\n",
    "plt.show()"
   ]
  },
  {
   "cell_type": "code",
   "execution_count": null,
   "id": "0cdd2ae8",
   "metadata": {},
   "outputs": [],
   "source": [
    "crime_data_df.plot.bar(x=\"MONTH\", y=\"YEAR\") "
   ]
  },
  {
   "cell_type": "code",
   "execution_count": null,
   "id": "6101996a",
   "metadata": {},
   "outputs": [],
   "source": [
    "crime_data_df.plot(x=\"Month\", y=\"YEAR\", kind='bar')\n",
    "plt.show()"
   ]
  },
  {
   "cell_type": "code",
   "execution_count": null,
   "id": "b96904dc",
   "metadata": {},
   "outputs": [],
   "source": [
    "crime_data_df = pd.read_csv(\"crimedata.csv\")"
   ]
  },
  {
   "cell_type": "code",
   "execution_count": null,
   "id": "95c36f0d",
   "metadata": {},
   "outputs": [],
   "source": []
  }
 ],
 "metadata": {
  "kernelspec": {
   "display_name": "Python 3 (ipykernel)",
   "language": "python",
   "name": "python3"
  },
  "language_info": {
   "codemirror_mode": {
    "name": "ipython",
    "version": 3
   },
   "file_extension": ".py",
   "mimetype": "text/x-python",
   "name": "python",
   "nbconvert_exporter": "python",
   "pygments_lexer": "ipython3",
   "version": "3.9.7"
  }
 },
 "nbformat": 4,
 "nbformat_minor": 5
}
